{
  "nbformat": 4,
  "nbformat_minor": 0,
  "metadata": {
    "colab": {
      "provenance": []
    },
    "kernelspec": {
      "name": "python3",
      "display_name": "Python 3"
    },
    "language_info": {
      "name": "python"
    }
  },
  "cells": [
    {
      "cell_type": "code",
      "execution_count": 1,
      "metadata": {
        "colab": {
          "base_uri": "https://localhost:8080/"
        },
        "id": "7-848B0LOnc9",
        "outputId": "570a7f6c-ce76-40b7-d0dc-5e9acb0cc962"
      },
      "outputs": [
        {
          "output_type": "stream",
          "name": "stdout",
          "text": [
            "Cloning into 'LicenseDetector'...\n",
            "remote: Enumerating objects: 26952, done.\u001b[K\n",
            "remote: Counting objects: 100% (3/3), done.\u001b[K\n",
            "remote: Compressing objects: 100% (3/3), done.\u001b[K\n",
            "remote: Total 26952 (delta 0), reused 0 (delta 0), pack-reused 26949 (from 3)\u001b[K\n",
            "Receiving objects: 100% (26952/26952), 1.84 GiB | 30.30 MiB/s, done.\n",
            "Resolving deltas: 100% (18/18), done.\n",
            "Updating files: 100% (20137/20137), done.\n"
          ]
        }
      ],
      "source": [
        "!git clone https://github.com/Khushi04092004/LicenseDetector.git\n"
      ]
    },
    {
      "cell_type": "code",
      "source": [
        "%cd LicenseDetector"
      ],
      "metadata": {
        "colab": {
          "base_uri": "https://localhost:8080/"
        },
        "id": "rWdbMGNtPCLd",
        "outputId": "59d25d59-efe2-4bc4-9c23-342f83685e25"
      },
      "execution_count": 2,
      "outputs": [
        {
          "output_type": "stream",
          "name": "stdout",
          "text": [
            "/content/LicenseDetector\n"
          ]
        }
      ]
    },
    {
      "cell_type": "code",
      "source": [
        "import pandas as pd\n",
        "\n",
        "# Load the OCR results file\n",
        "df = pd.read_csv(\"ocr_results_cleaned.csv\")\n",
        "print(df.head())  # Display the first few rows\n",
        "print(df.info())  # Check for missing values or data types\n"
      ],
      "metadata": {
        "colab": {
          "base_uri": "https://localhost:8080/"
        },
        "id": "_vYRNrSdQub3",
        "outputId": "7d2cbb37-bedb-4daf-c98c-88a304faa850"
      },
      "execution_count": 7,
      "outputs": [
        {
          "output_type": "stream",
          "name": "stdout",
          "text": [
            "                                               Image    Detected_Text\n",
            "0     1_jpeg.rf.fa645bf08c4903f3f7e9ab8a6875cc92.jpg  KA1VTR 022M0-20\n",
            "1  car-wbs-TN21AT0492_00000_jpg.rf.8152583db24cd7...     p1at 0493 TN\n",
            "2  processed_IMG20200222210352_jpg.rf.57c73076d20...          Ln @uss\n",
            "3   ML38_jpg.rf.71c336e13e4d83c204db11bb18606e24.jpg     NL 0 6 46 96\n",
            "4  IMG20200222205259_jpg.rf.f9c51e2d786699e88df8a...        MH0z 8T70\n",
            "<class 'pandas.core.frame.DataFrame'>\n",
            "RangeIndex: 437 entries, 0 to 436\n",
            "Data columns (total 2 columns):\n",
            " #   Column         Non-Null Count  Dtype \n",
            "---  ------         --------------  ----- \n",
            " 0   Image          437 non-null    object\n",
            " 1   Detected_Text  437 non-null    object\n",
            "dtypes: object(2)\n",
            "memory usage: 7.0+ KB\n",
            "None\n"
          ]
        }
      ]
    },
    {
      "cell_type": "code",
      "source": [
        "import sqlite3\n",
        "\n",
        "conn = sqlite3.connect(\"license_plate_db.sqlite\")\n",
        "df.to_sql(\"plates\", conn, if_exists=\"replace\", index=False)\n",
        "conn.close()\n"
      ],
      "metadata": {
        "id": "L2zaz7m_RUJl"
      },
      "execution_count": 13,
      "outputs": []
    },
    {
      "cell_type": "code",
      "source": [
        "import pandas as pd\n",
        "\n",
        "# Create an empty DataFrame with column names\n",
        "df = pd.DataFrame(columns=[\"license_plate\"])\n",
        "\n",
        "# Save it as a CSV file\n",
        "df.to_csv(\"valid_license_plates.csv\", index=False)\n",
        "\n",
        "print(\"✅ Empty valid_license_plates.csv file created successfully!\")\n"
      ],
      "metadata": {
        "colab": {
          "base_uri": "https://localhost:8080/"
        },
        "id": "IG-WD6CpS42D",
        "outputId": "a1dfa754-a5a6-4579-c0e6-0d40f452e00b"
      },
      "execution_count": 16,
      "outputs": [
        {
          "output_type": "stream",
          "name": "stdout",
          "text": [
            "✅ Empty valid_license_plates.csv file created successfully!\n"
          ]
        }
      ]
    },
    {
      "cell_type": "code",
      "source": [
        "import pandas as pd\n",
        "\n",
        "# Load the OCR results CSV\n",
        "df = pd.read_csv(\"ocr_results_cleaned.csv\")\n",
        "\n",
        "# Print column names\n",
        "print(\"Columns in the dataset:\", df.columns.tolist())\n"
      ],
      "metadata": {
        "colab": {
          "base_uri": "https://localhost:8080/"
        },
        "id": "HXWuxOlkTd8h",
        "outputId": "faabaa96-d14e-4072-c273-ff48384a9289"
      },
      "execution_count": 19,
      "outputs": [
        {
          "output_type": "stream",
          "name": "stdout",
          "text": [
            "Columns in the dataset: ['Image', 'Detected_Text']\n"
          ]
        }
      ]
    },
    {
      "cell_type": "code",
      "source": [
        "import pandas as pd\n",
        "import re\n",
        "\n",
        "# Load the OCR results CSV\n",
        "df = pd.read_csv(\"ocr_results_cleaned.csv\")\n",
        "\n",
        "# Rename \"Detected_Text\" to \"license_plate\" for consistency\n",
        "df.rename(columns={\"Detected_Text\": \"license_plate\"}, inplace=True)\n",
        "\n",
        "# Dictionary of license plate regex formats for different countries\n",
        "plate_formats = {\n",
        "    \"India\": r\"^[A-Z]{2}\\d{2}[A-Z]{1,2}\\d{4}$\",  # UP16AB2345\n",
        "    \"USA\": r\"^[A-Z0-9]{1,7}$\",  # ABC123 or 1234567\n",
        "    \"UK\": r\"^[A-Z]{2}\\d{2} [A-Z]{3}$\",  # AB12 XYZ\n",
        "    \"Canada\": r\"^[A-Z]{3}-\\d{3}$\",  # ABC-123\n",
        "    \"Germany\": r\"^[A-Z]{1,3}-[A-Z]{1,2} \\d{1,4}$\",  # B-MX 1234\n",
        "    \"France\": r\"^\\d{2,4} [A-Z]{2} \\d{2,4}$\",  # 1234 AB 56\n",
        "    \"Italy\": r\"^[A-Z]{2} \\d{3} [A-Z]{2}$\",  # AB 123 CD\n",
        "    \"Australia\": r\"^[A-Z]{3}\\d{3}$\",  # ABC123\n",
        "    \"Brazil\": r\"^[A-Z]{3}-\\d{4}$\",  # ABC-1234\n",
        "    \"Mexico\": r\"^\\d{3}-[A-Z]{3}-\\d{2}$\",  # 123-ABC-45\n",
        "    \"Russia\": r\"^\\d{1,4} [A-Z]{2} \\d{2,3}$\",  # 1234 AB 99\n",
        "    \"China\": r\"^[A-Z]{1}\\d{1}[A-Z0-9]{5}$\",  # B12345\n",
        "    \"Japan\": r\"^\\d{2}-\\d{2} [A-Z]{2}$\",  # 12-34 AB\n",
        "    \"South Korea\": r\"^\\d{2,3}-\\d{4}$\",  # 12-3456\n",
        "    \"Argentina\": r\"^[A-Z]{2} \\d{3} [A-Z]{2}$\",  # AA 123 BB\n",
        "    \"Spain\": r\"^\\d{4} [A-Z]{3}$\",  # 1234 ABC\n",
        "    \"South Africa\": r\"^[A-Z]{2} \\d{3}-\\d{3}$\",  # CA 123-456\n",
        "    \"UAE\": r\"^\\d{5} [A-Z]{1,2}$\",  # 12345 A\n",
        "    \"Turkey\": r\"^\\d{2} [A-Z]{1,3} \\d{2,3}$\",  # 34 ABC 123\n",
        "    \"Indonesia\": r\"^\\w{1,2} \\d{1,4} \\w{1,3}$\",  # B 1234 XYZ\n",
        "    \"Thailand\": r\"^\\d{1,4} [A-Z]{2} \\d{2}$\",  # 1234 AB 12\n",
        "}\n",
        "\n",
        "# Function to validate license plates\n",
        "def validate_plate(plate):\n",
        "    for country, pattern in plate_formats.items():\n",
        "        if re.match(pattern, plate):\n",
        "            return country  # Return the country if the plate is valid\n",
        "    return None  # Return None if no format matches\n",
        "\n",
        "# Apply validation and filter valid plates\n",
        "df[\"Country\"] = df[\"license_plate\"].apply(validate_plate)\n",
        "df_valid = df.dropna(subset=[\"Country\"])  # Keep only valid plates\n",
        "\n",
        "# Save valid plates with country info to CSV\n",
        "df_valid.to_csv(\"valid_license_plates.csv\", index=False)\n",
        "\n",
        "print(\"✅ Valid license plates saved successfully!\")\n"
      ],
      "metadata": {
        "colab": {
          "base_uri": "https://localhost:8080/"
        },
        "id": "6-wJhI17UlGl",
        "outputId": "1abf1937-8fb3-4536-b476-f140d2f489e0"
      },
      "execution_count": 23,
      "outputs": [
        {
          "output_type": "stream",
          "name": "stdout",
          "text": [
            "✅ Valid license plates saved successfully!\n"
          ]
        }
      ]
    },
    {
      "cell_type": "code",
      "source": [
        "from google.colab import files\n",
        "\n",
        "# Download the valid license plates CSV file\n",
        "files.download(\"valid_license_plates.csv\")\n"
      ],
      "metadata": {
        "colab": {
          "base_uri": "https://localhost:8080/",
          "height": 17
        },
        "id": "zc6w61quUriI",
        "outputId": "8285058a-1991-4853-cbab-465c75b690bf"
      },
      "execution_count": 26,
      "outputs": [
        {
          "output_type": "display_data",
          "data": {
            "text/plain": [
              "<IPython.core.display.Javascript object>"
            ],
            "application/javascript": [
              "\n",
              "    async function download(id, filename, size) {\n",
              "      if (!google.colab.kernel.accessAllowed) {\n",
              "        return;\n",
              "      }\n",
              "      const div = document.createElement('div');\n",
              "      const label = document.createElement('label');\n",
              "      label.textContent = `Downloading \"${filename}\": `;\n",
              "      div.appendChild(label);\n",
              "      const progress = document.createElement('progress');\n",
              "      progress.max = size;\n",
              "      div.appendChild(progress);\n",
              "      document.body.appendChild(div);\n",
              "\n",
              "      const buffers = [];\n",
              "      let downloaded = 0;\n",
              "\n",
              "      const channel = await google.colab.kernel.comms.open(id);\n",
              "      // Send a message to notify the kernel that we're ready.\n",
              "      channel.send({})\n",
              "\n",
              "      for await (const message of channel.messages) {\n",
              "        // Send a message to notify the kernel that we're ready.\n",
              "        channel.send({})\n",
              "        if (message.buffers) {\n",
              "          for (const buffer of message.buffers) {\n",
              "            buffers.push(buffer);\n",
              "            downloaded += buffer.byteLength;\n",
              "            progress.value = downloaded;\n",
              "          }\n",
              "        }\n",
              "      }\n",
              "      const blob = new Blob(buffers, {type: 'application/binary'});\n",
              "      const a = document.createElement('a');\n",
              "      a.href = window.URL.createObjectURL(blob);\n",
              "      a.download = filename;\n",
              "      div.appendChild(a);\n",
              "      a.click();\n",
              "      div.remove();\n",
              "    }\n",
              "  "
            ]
          },
          "metadata": {}
        },
        {
          "output_type": "display_data",
          "data": {
            "text/plain": [
              "<IPython.core.display.Javascript object>"
            ],
            "application/javascript": [
              "download(\"download_0f5081ec-6777-4bc5-bb8c-26bdec67c028\", \"valid_license_plates.csv\", 355)"
            ]
          },
          "metadata": {}
        }
      ]
    },
    {
      "cell_type": "code",
      "source": [
        "!apt install sqlite3\n"
      ],
      "metadata": {
        "colab": {
          "base_uri": "https://localhost:8080/"
        },
        "id": "PCODYXcvWclZ",
        "outputId": "8e0cc221-c8a8-4786-e563-1f6ec9e990da"
      },
      "execution_count": 27,
      "outputs": [
        {
          "output_type": "stream",
          "name": "stdout",
          "text": [
            "Reading package lists... Done\n",
            "Building dependency tree... Done\n",
            "Reading state information... Done\n",
            "Suggested packages:\n",
            "  sqlite3-doc\n",
            "The following NEW packages will be installed:\n",
            "  sqlite3\n",
            "0 upgraded, 1 newly installed, 0 to remove and 29 not upgraded.\n",
            "Need to get 768 kB of archives.\n",
            "After this operation, 1,873 kB of additional disk space will be used.\n",
            "Get:1 http://archive.ubuntu.com/ubuntu jammy-updates/main amd64 sqlite3 amd64 3.37.2-2ubuntu0.3 [768 kB]\n",
            "Fetched 768 kB in 1s (857 kB/s)\n",
            "Selecting previously unselected package sqlite3.\n",
            "(Reading database ... 125044 files and directories currently installed.)\n",
            "Preparing to unpack .../sqlite3_3.37.2-2ubuntu0.3_amd64.deb ...\n",
            "Unpacking sqlite3 (3.37.2-2ubuntu0.3) ...\n",
            "Setting up sqlite3 (3.37.2-2ubuntu0.3) ...\n",
            "Processing triggers for man-db (2.10.2-1) ...\n"
          ]
        }
      ]
    },
    {
      "cell_type": "code",
      "source": [
        "import sqlite3\n",
        "import pandas as pd\n",
        "\n",
        "# Load the cleaned OCR results\n",
        "df = pd.read_csv(\"ocr_results_cleaned.csv\")\n",
        "\n",
        "# Create SQLite database\n",
        "conn = sqlite3.connect(\"license_plate_db.sqlite\")\n",
        "\n",
        "# Save DataFrame to the database\n",
        "df.to_sql(\"plates\", conn, if_exists=\"replace\", index=False)\n",
        "\n",
        "# Close connection\n",
        "conn.close()\n",
        "\n",
        "print(\"✅ License plate database created successfully!\")\n"
      ],
      "metadata": {
        "colab": {
          "base_uri": "https://localhost:8080/"
        },
        "id": "F-AIZTMfWjEt",
        "outputId": "558fe249-f660-4820-ee14-367b3b613432"
      },
      "execution_count": 29,
      "outputs": [
        {
          "output_type": "stream",
          "name": "stdout",
          "text": [
            "✅ License plate database created successfully!\n"
          ]
        }
      ]
    },
    {
      "cell_type": "code",
      "source": [
        "# Connect to database and fetch data\n",
        "conn = sqlite3.connect(\"license_plate_db.sqlite\")\n",
        "cursor = conn.cursor()\n",
        "\n",
        "# Retrieve first 5 records\n",
        "cursor.execute(\"SELECT * FROM plates LIMIT 5\")\n",
        "rows = cursor.fetchall()\n",
        "\n",
        "# Print results\n",
        "for row in rows:\n",
        "    print(row)\n",
        "\n",
        "conn.close()\n"
      ],
      "metadata": {
        "colab": {
          "base_uri": "https://localhost:8080/"
        },
        "id": "cPcb8m28W0Ex",
        "outputId": "9ab02c28-0244-4a8a-d7bb-85c7ae148468"
      },
      "execution_count": 30,
      "outputs": [
        {
          "output_type": "stream",
          "name": "stdout",
          "text": [
            "('1_jpeg.rf.fa645bf08c4903f3f7e9ab8a6875cc92.jpg', 'KA1VTR 022M0-20')\n",
            "('car-wbs-TN21AT0492_00000_jpg.rf.8152583db24cd739679ba5d5cf0e80ba.jpg', 'p1at 0493 TN')\n",
            "('processed_IMG20200222210352_jpg.rf.57c73076d20145d6b36017da94627bd7.jpg', 'Ln @uss')\n",
            "('ML38_jpg.rf.71c336e13e4d83c204db11bb18606e24.jpg', 'NL 0 6 46 96')\n",
            "('IMG20200222205259_jpg.rf.f9c51e2d786699e88df8a219327b1653.jpg', 'MH0z 8T70')\n"
          ]
        }
      ]
    },
    {
      "cell_type": "code",
      "source": [
        "from google.colab import files\n",
        "files.download(\"license_plate_db.sqlite\")\n"
      ],
      "metadata": {
        "colab": {
          "base_uri": "https://localhost:8080/",
          "height": 17
        },
        "id": "ZIMPL8hxW3QL",
        "outputId": "6a65418f-c5aa-44f1-c116-8dede2090c88"
      },
      "execution_count": 32,
      "outputs": [
        {
          "output_type": "display_data",
          "data": {
            "text/plain": [
              "<IPython.core.display.Javascript object>"
            ],
            "application/javascript": [
              "\n",
              "    async function download(id, filename, size) {\n",
              "      if (!google.colab.kernel.accessAllowed) {\n",
              "        return;\n",
              "      }\n",
              "      const div = document.createElement('div');\n",
              "      const label = document.createElement('label');\n",
              "      label.textContent = `Downloading \"${filename}\": `;\n",
              "      div.appendChild(label);\n",
              "      const progress = document.createElement('progress');\n",
              "      progress.max = size;\n",
              "      div.appendChild(progress);\n",
              "      document.body.appendChild(div);\n",
              "\n",
              "      const buffers = [];\n",
              "      let downloaded = 0;\n",
              "\n",
              "      const channel = await google.colab.kernel.comms.open(id);\n",
              "      // Send a message to notify the kernel that we're ready.\n",
              "      channel.send({})\n",
              "\n",
              "      for await (const message of channel.messages) {\n",
              "        // Send a message to notify the kernel that we're ready.\n",
              "        channel.send({})\n",
              "        if (message.buffers) {\n",
              "          for (const buffer of message.buffers) {\n",
              "            buffers.push(buffer);\n",
              "            downloaded += buffer.byteLength;\n",
              "            progress.value = downloaded;\n",
              "          }\n",
              "        }\n",
              "      }\n",
              "      const blob = new Blob(buffers, {type: 'application/binary'});\n",
              "      const a = document.createElement('a');\n",
              "      a.href = window.URL.createObjectURL(blob);\n",
              "      a.download = filename;\n",
              "      div.appendChild(a);\n",
              "      a.click();\n",
              "      div.remove();\n",
              "    }\n",
              "  "
            ]
          },
          "metadata": {}
        },
        {
          "output_type": "display_data",
          "data": {
            "text/plain": [
              "<IPython.core.display.Javascript object>"
            ],
            "application/javascript": [
              "download(\"download_ad8931a8-7a8d-4f91-8616-1077fb7c156b\", \"license_plate_db.sqlite\", 49152)"
            ]
          },
          "metadata": {}
        }
      ]
    }
  ]
}